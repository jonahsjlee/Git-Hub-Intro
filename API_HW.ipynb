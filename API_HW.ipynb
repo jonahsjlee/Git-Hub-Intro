{
  "nbformat": 4,
  "nbformat_minor": 0,
  "metadata": {
    "colab": {
      "provenance": [],
      "authorship_tag": "ABX9TyPAtBiEMufzORbRoyA9GQsD",
      "include_colab_link": true
    },
    "kernelspec": {
      "name": "python3",
      "display_name": "Python 3"
    },
    "language_info": {
      "name": "python"
    }
  },
  "cells": [
    {
      "cell_type": "markdown",
      "metadata": {
        "id": "view-in-github",
        "colab_type": "text"
      },
      "source": [
        "<a href=\"https://colab.research.google.com/github/jonahsjlee/Git-Hub-Intro/blob/main/API_HW.ipynb\" target=\"_parent\"><img src=\"https://colab.research.google.com/assets/colab-badge.svg\" alt=\"Open In Colab\"/></a>"
      ]
    },
    {
      "cell_type": "code",
      "execution_count": null,
      "metadata": {
        "id": "Ik2DMykhvVpT"
      },
      "outputs": [],
      "source": [
        "import json\n",
        "import pandas as pd\n",
        "import json\n",
        "import requests\n",
        "import matplotlib.pyplot as plt\n",
        "from datetime import datetime"
      ]
    },
    {
      "cell_type": "code",
      "source": [
        "#get stock from the user\n",
        "stocks=input(\"Enter a stock using the Ticker symbol: \")"
      ],
      "metadata": {
        "colab": {
          "base_uri": "https://localhost:8080/"
        },
        "id": "LLnugcO4xZ1K",
        "outputId": "411a3965-dbb4-47ca-fec6-3450714a825a"
      },
      "execution_count": null,
      "outputs": [
        {
          "name": "stdout",
          "output_type": "stream",
          "text": [
            "Enter a stock using the Ticker symbol: AAPL\n"
          ]
        }
      ]
    },
    {
      "cell_type": "code",
      "source": [
        "apikey=\"c9OFL7lPUH8t7UYyTwOyK1K4aokTumjg2BqWVGp7\"\n",
        "\n",
        "url = \"https://yfapi.net/v6/finance/quote\"\n",
        "\n",
        "querystring = {\"symbols\":stocks}\n",
        "\n",
        "headers = {\n",
        "    'x-api-key': apikey\n",
        "    }\n",
        "\n",
        "response = requests.request(\"GET\", url, headers=headers, params=querystring)"
      ],
      "metadata": {
        "id": "AN1Qb-5SzHZF"
      },
      "execution_count": null,
      "outputs": []
    },
    {
      "cell_type": "code",
      "source": [
        "url_trendingData = \"https://yfapi.net/v1/finance/trending/US\"\n",
        "\n",
        "querystring_trendingData = {}\n",
        "\n",
        "headers = {\n",
        "    'x-api-key': apikey\n",
        "    }\n",
        "response_trendingData = requests.request(\"GET\", url_trendingData, headers=headers, params=querystring_trendingData)\n"
      ],
      "metadata": {
        "id": "HykL7edF7y6f"
      },
      "execution_count": null,
      "outputs": []
    },
    {
      "cell_type": "code",
      "source": [
        "#print the company name and price\n",
        "stock_json = response.json()\n",
        "trending_json = response_trendingData.json()\n",
        "\n",
        "# validate and extract data\n",
        "try:\n",
        "    quotes = trending_json['finance']['result'][0]['quotes']\n",
        "    five_trending_stocks = [quote['symbol'] for quote in quotes[:5]]\n",
        "except (KeyError, IndexError):\n",
        "    five_trending_stocks = []\n",
        "    print(\"Warning: Could not fetch trending stocks.\")\n",
        "\n",
        "\n",
        "stock_data = []\n",
        "# check if expected data exists\n",
        "if 'quoteResponse' in stock_json and 'result' in stock_json['quoteResponse']:\n",
        "    for stock in stock_json['quoteResponse']['result']:\n",
        "        stock_info = {\n",
        "            \"Ticker Name\": stocks,\n",
        "            \"Company Name\": stock.get('longName', 'N/A'),\n",
        "            \"Current Market Price\": stock.get('regularMarketPrice', 'N/A'),\n",
        "            \"Target Mean Price\": stock['forwardPE'] * stock['epsForward'] if 'forwardPE' in stock and 'epsForward' in stock else 'N/A',\n",
        "            \"52 Week High\": stock.get('fiftyTwoWeekHigh', 'N/A'),\n",
        "            \"52 Week Low\": stock.get('fiftyTwoWeekLow', 'N/A'),\n",
        "            \"5 Trending Stocks\": five_trending_stocks\n",
        "        }\n",
        "        stock_data.append(stock_info)\n",
        "else:\n",
        "    print(\"No valid stock data available.\")\n",
        "\n",
        "# ensure stock_data is not empty\n",
        "if stock_data:\n",
        "    df = pd.DataFrame(stock_data)\n",
        "    print(df)\n",
        "    df.to_csv('api_hw.csv', index=False)\n",
        "else:\n",
        "    print(\"No data to save or display.\")\n"
      ],
      "metadata": {
        "colab": {
          "base_uri": "https://localhost:8080/"
        },
        "id": "nG6hkSfazIji",
        "outputId": "dc20257d-a45c-4804-98e0-5570913853e4"
      },
      "execution_count": null,
      "outputs": [
        {
          "output_type": "stream",
          "name": "stdout",
          "text": [
            "  Ticker Name Company Name  Current Market Price  Target Mean Price  \\\n",
            "0        AAPL   Apple Inc.                227.81          227.80999   \n",
            "\n",
            "   52 Week High  52 Week Low              5 Trending Stocks  \n",
            "0        237.23       164.08  [NIO, IONQ, RKLB, LULU, COST]  \n"
          ]
        }
      ]
    },
    {
      "cell_type": "code",
      "source": [
        "url_bonus = \"https://yfapi.net/v8/finance/spark\"\n",
        "\n",
        "querystring_bonus = {\"symbols\":stocks}\n",
        "\n",
        "headers = {\n",
        "    'x-api-key': apikey\n",
        "    }\n",
        "response_bonus = requests.request(\"GET\", url_bonus, headers=headers, params=querystring_bonus)"
      ],
      "metadata": {
        "id": "d0zbC7A-JmR2"
      },
      "execution_count": null,
      "outputs": []
    },
    {
      "cell_type": "code",
      "source": [
        "bonus_json = response_bonus.json()\n",
        "\n",
        "def create_stock_df(stock_data):\n",
        "    timestamps = stock_data['timestamp']\n",
        "    closes = stock_data['close']\n",
        "    dates = pd.to_datetime(timestamps, unit='s')\n",
        "    return pd.DataFrame({'Date': dates, 'Close': closes})\n",
        "\n",
        "msft_df = create_stock_df(data['MSFT'])\n",
        "aapl_df = create_stock_df(data['AAPL'])\n",
        "\n",
        "plt.figure(figsize=(10, 5))\n",
        "plt.plot(msft_df['Date'], msft_df['Close'], label='Microsoft (MSFT)')\n",
        "plt.plot(aapl_df['Date'], aapl_df['Close'], label='Apple (AAPL)')\n",
        "plt.title('Stock Prices Over Time')\n",
        "plt.xlabel('Date')\n",
        "plt.ylabel('Closing Price (USD)')\n",
        "plt.legend()\n",
        "plt.grid(True)\n",
        "plt.show()"
      ],
      "metadata": {
        "colab": {
          "base_uri": "https://localhost:8080/",
          "height": 364
        },
        "id": "zmZjhuY-Hxap",
        "outputId": "009c6e8d-8965-4d3b-c1c8-c2c5a00c1f7d"
      },
      "execution_count": null,
      "outputs": [
        {
          "output_type": "display_data",
          "data": {
            "text/plain": [
              "<Figure size 1000x500 with 1 Axes>"
            ],
            "image/png": "[encoded data removed]"
          },
          "metadata": {}
        }
      ]
    }
  ]
}